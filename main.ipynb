{
 "cells": [
  {
   "attachments": {},
   "cell_type": "markdown",
   "metadata": {},
   "source": [
    "## 1.IMPORTING LIBRARIES\n",
    "\n",
    "    *Numpy for linear algebra and data manipulation.\n",
    "    *Matplotlib for visualising data.\n",
    "    *Pandas for loading and analyzing data.\n",
    "    *Sklearn for normalizing the data and creating the model."
   ]
  },
  {
   "cell_type": "code",
   "execution_count": 56,
   "metadata": {},
   "outputs": [],
   "source": [
    "import pandas as pd\n",
    "import numpy as np\n",
    "import matplotlib.pyplot as plt\n",
    "import sklearn"
   ]
  },
  {
   "attachments": {},
   "cell_type": "markdown",
   "metadata": {},
   "source": [
    "## 2.LOADING AND ANALYZING THE DATA\n",
    "\n",
    "    *Loading the customers.csv dataset.\n",
    "    *customers.csv is a demographic dataset taken from telecommunications industry.\n",
    "    *Analyzing the data using pandas.\n"
   ]
  },
  {
   "cell_type": "code",
   "execution_count": 48,
   "metadata": {},
   "outputs": [
    {
     "data": {
      "text/html": [
       "<div>\n",
       "<style scoped>\n",
       "    .dataframe tbody tr th:only-of-type {\n",
       "        vertical-align: middle;\n",
       "    }\n",
       "\n",
       "    .dataframe tbody tr th {\n",
       "        vertical-align: top;\n",
       "    }\n",
       "\n",
       "    .dataframe thead th {\n",
       "        text-align: right;\n",
       "    }\n",
       "</style>\n",
       "<table border=\"1\" class=\"dataframe\">\n",
       "  <thead>\n",
       "    <tr style=\"text-align: right;\">\n",
       "      <th></th>\n",
       "      <th>region</th>\n",
       "      <th>tenure</th>\n",
       "      <th>age</th>\n",
       "      <th>marital</th>\n",
       "      <th>address</th>\n",
       "      <th>income</th>\n",
       "      <th>ed</th>\n",
       "      <th>employ</th>\n",
       "      <th>retire</th>\n",
       "      <th>gender</th>\n",
       "      <th>reside</th>\n",
       "      <th>custcat</th>\n",
       "    </tr>\n",
       "  </thead>\n",
       "  <tbody>\n",
       "    <tr>\n",
       "      <th>0</th>\n",
       "      <td>2</td>\n",
       "      <td>13</td>\n",
       "      <td>44</td>\n",
       "      <td>1</td>\n",
       "      <td>9</td>\n",
       "      <td>64.0</td>\n",
       "      <td>4</td>\n",
       "      <td>5</td>\n",
       "      <td>0.0</td>\n",
       "      <td>0</td>\n",
       "      <td>2</td>\n",
       "      <td>1</td>\n",
       "    </tr>\n",
       "    <tr>\n",
       "      <th>1</th>\n",
       "      <td>3</td>\n",
       "      <td>11</td>\n",
       "      <td>33</td>\n",
       "      <td>1</td>\n",
       "      <td>7</td>\n",
       "      <td>136.0</td>\n",
       "      <td>5</td>\n",
       "      <td>5</td>\n",
       "      <td>0.0</td>\n",
       "      <td>0</td>\n",
       "      <td>6</td>\n",
       "      <td>4</td>\n",
       "    </tr>\n",
       "    <tr>\n",
       "      <th>2</th>\n",
       "      <td>3</td>\n",
       "      <td>68</td>\n",
       "      <td>52</td>\n",
       "      <td>1</td>\n",
       "      <td>24</td>\n",
       "      <td>116.0</td>\n",
       "      <td>1</td>\n",
       "      <td>29</td>\n",
       "      <td>0.0</td>\n",
       "      <td>1</td>\n",
       "      <td>2</td>\n",
       "      <td>3</td>\n",
       "    </tr>\n",
       "    <tr>\n",
       "      <th>3</th>\n",
       "      <td>2</td>\n",
       "      <td>33</td>\n",
       "      <td>33</td>\n",
       "      <td>0</td>\n",
       "      <td>12</td>\n",
       "      <td>33.0</td>\n",
       "      <td>2</td>\n",
       "      <td>0</td>\n",
       "      <td>0.0</td>\n",
       "      <td>1</td>\n",
       "      <td>1</td>\n",
       "      <td>1</td>\n",
       "    </tr>\n",
       "    <tr>\n",
       "      <th>4</th>\n",
       "      <td>2</td>\n",
       "      <td>23</td>\n",
       "      <td>30</td>\n",
       "      <td>1</td>\n",
       "      <td>9</td>\n",
       "      <td>30.0</td>\n",
       "      <td>1</td>\n",
       "      <td>2</td>\n",
       "      <td>0.0</td>\n",
       "      <td>0</td>\n",
       "      <td>4</td>\n",
       "      <td>3</td>\n",
       "    </tr>\n",
       "  </tbody>\n",
       "</table>\n",
       "</div>"
      ],
      "text/plain": [
       "   region  tenure  age  marital  address  income  ed  employ  retire  gender  \\\n",
       "0       2      13   44        1        9    64.0   4       5     0.0       0   \n",
       "1       3      11   33        1        7   136.0   5       5     0.0       0   \n",
       "2       3      68   52        1       24   116.0   1      29     0.0       1   \n",
       "3       2      33   33        0       12    33.0   2       0     0.0       1   \n",
       "4       2      23   30        1        9    30.0   1       2     0.0       0   \n",
       "\n",
       "   reside  custcat  \n",
       "0       2        1  \n",
       "1       6        4  \n",
       "2       2        3  \n",
       "3       1        1  \n",
       "4       4        3  "
      ]
     },
     "execution_count": 48,
     "metadata": {},
     "output_type": "execute_result"
    }
   ],
   "source": [
    "df = pd.read_csv(\"customers.csv\")\n",
    "\n",
    "df.head()"
   ]
  },
  {
   "attachments": {},
   "cell_type": "markdown",
   "metadata": {},
   "source": [
    "Custcat (customer_category) has four classes: 1- Basic Service 2- E-Service 3- Plus Service 4- Total Service"
   ]
  },
  {
   "cell_type": "code",
   "execution_count": 65,
   "metadata": {},
   "outputs": [
    {
     "name": "stdout",
     "output_type": "stream",
     "text": [
      "Customer categories and how many of them are there:\n",
      "3    281\n",
      "1    266\n",
      "4    236\n",
      "2    217\n",
      "Name: custcat, dtype: int64 \n"
     ]
    }
   ],
   "source": [
    "print(\"Customer categories and how many of them are there:\\n{} \".format(df['custcat'].value_counts()))"
   ]
  },
  {
   "cell_type": "code",
   "execution_count": 66,
   "metadata": {},
   "outputs": [
    {
     "name": "stdout",
     "output_type": "stream",
     "text": [
      "These are the features of our dataset:\n",
      "Index(['region', 'tenure', 'age', 'marital', 'address', 'income', 'ed',\n",
      "       'employ', 'retire', 'gender', 'reside', 'custcat'],\n",
      "      dtype='object')\n"
     ]
    }
   ],
   "source": [
    "print(\"These are the features of our dataset:\\n{}\".format(df.columns))"
   ]
  },
  {
   "attachments": {},
   "cell_type": "markdown",
   "metadata": {},
   "source": [
    "Let's see the histogram describing the customers incomes and marital status."
   ]
  },
  {
   "cell_type": "code",
   "execution_count": 72,
   "metadata": {},
   "outputs": [
    {
     "data": {
      "text/plain": [
       "array([[<Axes: title={'center': 'income'}>,\n",
       "        <Axes: title={'center': 'marital'}>]], dtype=object)"
      ]
     },
     "execution_count": 72,
     "metadata": {},
     "output_type": "execute_result"
    },
    {
     "data": {
      "image/png": "[encoded data removed]",
      "text/plain": [
       "<Figure size 640x480 with 2 Axes>"
      ]
     },
     "metadata": {},
     "output_type": "display_data"
    }
   ],
   "source": [
    "df.hist(column=[\"income\",\"marital\"], bins=30)"
   ]
  },
  {
   "attachments": {},
   "cell_type": "markdown",
   "metadata": {},
   "source": [
    "## 3.PREPARING AND SPLITTING DATA\n",
    "\n",
    "    *Converting type of the data\n",
    "    *Normalizing the data\n",
    "    *Splitting train and test sets."
   ]
  },
  {
   "cell_type": "code",
   "execution_count": 78,
   "metadata": {},
   "outputs": [
    {
     "name": "stdout",
     "output_type": "stream",
     "text": [
      "Independent variable matrix:\n",
      "[[  2.  13.  44.   1.   9.  64.   4.   5.   0.   0.   2.]\n",
      " [  3.  11.  33.   1.   7. 136.   5.   5.   0.   0.   6.]\n",
      " [  3.  68.  52.   1.  24. 116.   1.  29.   0.   1.   2.]]\n",
      " Dependent variable matrix:\n",
      "[1 4 3]\n"
     ]
    }
   ],
   "source": [
    "X = df[['region', 'tenure','age', 'marital', 'address', 'income', 'ed', 'employ','retire', 'gender', 'reside']] .values.astype(float)\n",
    "y = df['custcat'].values.astype(int)\n",
    "\n",
    "#We can also use:\n",
    "#X = np.asanyarray(df[['region', 'tenure','age', 'marital', 'address', 'income', 'ed', 'employ','retire', 'gender', 'reside']]) and\n",
    "#y = np.asanyarray(df['custcat'])\n",
    "\n",
    "print(\"Independent variable matrix:\\n{}\\n Dependent variable matrix:\\n{}\".format(X[:3], y[:3]))"
   ]
  },
  {
   "cell_type": "code",
   "execution_count": 80,
   "metadata": {},
   "outputs": [
    {
     "name": "stdout",
     "output_type": "stream",
     "text": [
      "Normalized independent variable matrix:\n",
      "[[-0.02696767 -1.055125    0.18450456 ... -0.22207644 -1.03459817\n",
      "  -0.23065004]\n",
      " [ 1.19883553 -1.14880563 -0.69181243 ... -0.22207644 -1.03459817\n",
      "   2.55666158]\n",
      " [ 1.19883553  1.52109247  0.82182601 ... -0.22207644  0.96655883\n",
      "  -0.23065004]\n",
      " ...\n",
      " [ 1.19883553  1.47425216  1.37948227 ... -0.22207644  0.96655883\n",
      "  -0.92747794]\n",
      " [ 1.19883553  1.61477311  0.58283046 ... -0.22207644  0.96655883\n",
      "  -0.92747794]\n",
      " [ 1.19883553  0.67796676 -0.45281689 ... -0.22207644  0.96655883\n",
      "   0.46617787]]\n"
     ]
    }
   ],
   "source": [
    "X = sklearn.preprocessing.StandardScaler().fit(X).transform(X)\n",
    "\n",
    "print(\"Normalized independent variable matrix:\\n{}\".format(X))\n"
   ]
  },
  {
   "cell_type": "code",
   "execution_count": 92,
   "metadata": {},
   "outputs": [
    {
     "name": "stdout",
     "output_type": "stream",
     "text": [
      "Size of independent and dependent variable matrices before splitting:\n",
      "(1000, 11)\n",
      "(1000,)\n",
      "\n",
      "Size of the training set:\n",
      "((850, 11), (850,))\n",
      "\n",
      "Size of the test set:\n",
      "((150, 11), (150,))\n"
     ]
    }
   ],
   "source": [
    "print(\"Size of independent and dependent variable matrices before splitting:\\n{}\\n{}\\n\".format(X.shape, y.shape))\n",
    "\n",
    "training_X, test_X, training_y, test_y = sklearn.model_selection.train_test_split(X,y, test_size=0.15)\n",
    "\n",
    "print(\"Size of the training set:\\n{}\\n\\nSize of the test set:\\n{}\".format((training_X.shape,training_y.shape),(test_X.shape,test_y.shape)))"
   ]
  },
  {
   "attachments": {},
   "cell_type": "markdown",
   "metadata": {},
   "source": [
    "4.CREATING and EVALUATING the MODEL\n",
    "\n",
    "    *Creating the model using sklearn.\n",
    "    *K-Nearest Neighbor technique is used for classification.\n",
    "    *Trying from several k values and picking the best.\n"
   ]
  },
  {
   "attachments": {},
   "cell_type": "markdown",
   "metadata": {},
   "source": [
    "Firstly we will create a model for k=5. k depends on how much neighbor we are interested."
   ]
  },
  {
   "cell_type": "code",
   "execution_count": 101,
   "metadata": {},
   "outputs": [
    {
     "name": "stdout",
     "output_type": "stream",
     "text": [
      "Training set accuracy: 0.55\n",
      "Test set accuracy: 0.32\n"
     ]
    }
   ],
   "source": [
    "model = sklearn.neighbors.KNeighborsClassifier(n_neighbors=5).fit(training_X, training_y)\n",
    "\n",
    "y_hat = model.predict(test_X)\n",
    "\n",
    "print(\"Training set accuracy: {}\\nTest set accuracy: {}\".format(\n",
    "    round(sklearn.metrics.accuracy_score(training_y, model.predict(training_X)), 2), sklearn.metrics.accuracy_score(test_y, y_hat)\n",
    "))"
   ]
  },
  {
   "attachments": {},
   "cell_type": "markdown",
   "metadata": {},
   "source": [
    "Example of prediction:"
   ]
  },
  {
   "cell_type": "code",
   "execution_count": 156,
   "metadata": {},
   "outputs": [
    {
     "name": "stdout",
     "output_type": "stream",
     "text": [
      "Data that we are going to use for prediction:\n",
      "[ 1.19883553  0.86532803 -1.16980352 -0.9900495  -0.84817577 -0.47233108\n",
      " -0.54919639 -0.49488715 -0.22207644  0.96655883  1.85983368]\n",
      "\n",
      "The predicted category is: [3]\n"
     ]
    }
   ],
   "source": [
    "vector = test_X[12]\n",
    "print(\"Data that we are going to use for prediction:\\n{}\\n\".format(vector))\n",
    "\n",
    "prediction = model.predict(vector.reshape(1, -1))\n",
    "print(\"The predicted category is: {}\".format(prediction))"
   ]
  },
  {
   "attachments": {},
   "cell_type": "markdown",
   "metadata": {},
   "source": [
    "Evaluate the model picking k values in range of 1 and 20."
   ]
  },
  {
   "cell_type": "code",
   "execution_count": 143,
   "metadata": {},
   "outputs": [],
   "source": [
    "accuracy = np.zeros(shape=(20))\n",
    "\n",
    "for i in range(1, 21):\n",
    "\n",
    "    model = sklearn.neighbors.KNeighborsClassifier(n_neighbors=i).fit(training_X, training_y)\n",
    "    y_hat = model.predict(test_X)\n",
    "\n",
    "    accuracy[i-1] = round(sklearn.metrics.accuracy_score(test_y, y_hat), 2)"
   ]
  },
  {
   "cell_type": "code",
   "execution_count": 144,
   "metadata": {},
   "outputs": [
    {
     "data": {
      "image/png": "[encoded data removed]",
      "text/plain": [
       "<Figure size 640x480 with 1 Axes>"
      ]
     },
     "metadata": {},
     "output_type": "display_data"
    }
   ],
   "source": [
    "plt.plot(range(1,21), accuracy, '-r')\n",
    "plt.ylabel(\"Accuracy\")\n",
    "plt.xlabel(\"Value of k\")\n",
    "plt.show()"
   ]
  },
  {
   "cell_type": "code",
   "execution_count": 145,
   "metadata": {},
   "outputs": [
    {
     "name": "stdout",
     "output_type": "stream",
     "text": [
      "The best k value is: 11\n",
      "The highest accuracy is: 0.39\n"
     ]
    }
   ],
   "source": [
    "print(\"The best k value is: {}\\nThe highest accuracy is: {}\".format(accuracy.argmax(), accuracy.max()))"
   ]
  },
  {
   "attachments": {},
   "cell_type": "markdown",
   "metadata": {},
   "source": [
    "## 5.CONCLUSIONS\n",
    "\n",
    "    *Although we've found the best k value, accuracy is still low.\n",
    "    *Low accuracy can be explainied with:\n",
    "        -Quality of the data\n",
    "        -Sensitivity to the scale of the data and irrelevant features\n",
    "    *Since KNN is not parametric and only depends on the data, it is very slow and computationally inefficient for high-dimensional data."
   ]
  }
 ],
 "metadata": {
  "kernelspec": {
   "display_name": "levi",
   "language": "python",
   "name": "python3"
  },
  "language_info": {
   "codemirror_mode": {
    "name": "ipython",
    "version": 3
   },
   "file_extension": ".py",
   "mimetype": "text/x-python",
   "name": "python",
   "nbconvert_exporter": "python",
   "pygments_lexer": "ipython3",
   "version": "3.9.16"
  },
  "orig_nbformat": 4,
  "vscode": {
   "interpreter": {
    "hash": "cc74c03df4673741e93e3f8bee9b1f1dc09b6f8571c8684eac161cc53b688e0f"
   }
  }
 },
 "nbformat": 4,
 "nbformat_minor": 2
}
